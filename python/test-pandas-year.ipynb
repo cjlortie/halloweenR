{
 "cells": [
  {
   "cell_type": "code",
   "execution_count": 1,
   "metadata": {
    "collapsed": true
   },
   "outputs": [],
   "source": [
    "import os\n",
    "import pandas as pd\n",
    "import numpy as np"
   ]
  },
  {
   "cell_type": "code",
   "execution_count": 2,
   "metadata": {
    "collapsed": true
   },
   "outputs": [],
   "source": [
    "os.chdir('data/usa/')"
   ]
  },
  {
   "cell_type": "code",
   "execution_count": 8,
   "metadata": {
    "collapsed": false
   },
   "outputs": [],
   "source": [
    "filelist = []\n",
    "for f in os.listdir('.'):\n",
    "    if 'csv' in f and 'candy' in f:\n",
    "        filelist.append(f)"
   ]
  },
  {
   "cell_type": "code",
   "execution_count": 9,
   "metadata": {
    "collapsed": false
   },
   "outputs": [
    {
     "data": {
      "text/plain": [
       "['2014.USA.candy.csv',\n",
       " '2013.USA.candy.csv',\n",
       " '2010.USA.candy.csv',\n",
       " '2012.USA.candy.csv',\n",
       " '2011.USA.candy.csv',\n",
       " '2009.USA.candy.csv']"
      ]
     },
     "execution_count": 9,
     "metadata": {},
     "output_type": "execute_result"
    }
   ],
   "source": [
    "filelist"
   ]
  },
  {
   "cell_type": "code",
   "execution_count": 10,
   "metadata": {
    "collapsed": false
   },
   "outputs": [],
   "source": [
    "dsets = {}\n",
    "for f in filelist:\n",
    "    kint = int(f[0:4])\n",
    "    dsets[kint] = pd.read_csv(f)"
   ]
  },
  {
   "cell_type": "code",
   "execution_count": 11,
   "metadata": {
    "collapsed": false
   },
   "outputs": [
    {
     "data": {
      "text/plain": [
       "dict_keys([2009, 2010, 2011, 2012, 2013, 2014])"
      ]
     },
     "execution_count": 11,
     "metadata": {},
     "output_type": "execute_result"
    }
   ],
   "source": [
    "dsets.keys()"
   ]
  },
  {
   "cell_type": "code",
   "execution_count": 12,
   "metadata": {
    "collapsed": false
   },
   "outputs": [],
   "source": [
    "dsets[2009].columns = ['candy', '4 Weeks Ending', '12 Weeks Ending', '52 Weeks Ending']"
   ]
  },
  {
   "cell_type": "code",
   "execution_count": 17,
   "metadata": {
    "collapsed": true
   },
   "outputs": [],
   "source": [
    "for y in dsets.keys():\n",
    "    ystr = str(y)\n",
    "    dsets[y].columns = ['candy', '4weeks', '12weeks', ystr]\n",
    "    dsets[y].drop('4weeks', axis=1, inplace=True)\n",
    "    dsets[y].drop('12weeks', axis=1, inplace=True)"
   ]
  },
  {
   "cell_type": "code",
   "execution_count": 18,
   "metadata": {
    "collapsed": false
   },
   "outputs": [],
   "source": [
    "alldata = dsets[2009].copy()"
   ]
  },
  {
   "cell_type": "code",
   "execution_count": 19,
   "metadata": {
    "collapsed": false
   },
   "outputs": [],
   "source": [
    "for y in range(2010, 2015):\n",
    "    alldata = pd.merge(alldata, dsets[y], on='candy', how='left')"
   ]
  },
  {
   "cell_type": "code",
   "execution_count": 21,
   "metadata": {
    "collapsed": false
   },
   "outputs": [],
   "source": [
    "alldata.set_index('candy', inplace=True)"
   ]
  },
  {
   "cell_type": "code",
   "execution_count": 22,
   "metadata": {
    "collapsed": false
   },
   "outputs": [
    {
     "data": {
      "text/html": [
       "<div>\n",
       "<table border=\"1\" class=\"dataframe\">\n",
       "  <thead>\n",
       "    <tr style=\"text-align: right;\">\n",
       "      <th></th>\n",
       "      <th>2009</th>\n",
       "      <th>2010</th>\n",
       "      <th>2011</th>\n",
       "      <th>2012</th>\n",
       "      <th>2013</th>\n",
       "      <th>2014</th>\n",
       "    </tr>\n",
       "    <tr>\n",
       "      <th>candy</th>\n",
       "      <th></th>\n",
       "      <th></th>\n",
       "      <th></th>\n",
       "      <th></th>\n",
       "      <th></th>\n",
       "      <th></th>\n",
       "    </tr>\n",
       "  </thead>\n",
       "  <tbody>\n",
       "    <tr>\n",
       "      <th>TOTAL CANDY &amp; GUM</th>\n",
       "      <td>4.890105e+09</td>\n",
       "      <td>5.183228e+09</td>\n",
       "      <td>5.329258e+09</td>\n",
       "      <td>5.423441e+09</td>\n",
       "      <td>5.595882e+09</td>\n",
       "      <td>5.762608e+09</td>\n",
       "    </tr>\n",
       "    <tr>\n",
       "      <th>CHOCOLATE CANDY BAR small</th>\n",
       "      <td>6.110693e+08</td>\n",
       "      <td>NaN</td>\n",
       "      <td>NaN</td>\n",
       "      <td>NaN</td>\n",
       "      <td>NaN</td>\n",
       "      <td>NaN</td>\n",
       "    </tr>\n",
       "    <tr>\n",
       "      <th>CHOCOLATE CANDY BOX/BAG/BAR large</th>\n",
       "      <td>1.191622e+09</td>\n",
       "      <td>NaN</td>\n",
       "      <td>NaN</td>\n",
       "      <td>NaN</td>\n",
       "      <td>NaN</td>\n",
       "      <td>NaN</td>\n",
       "    </tr>\n",
       "    <tr>\n",
       "      <th>CHOCOLATE CANDY SNACK SIZE</th>\n",
       "      <td>3.854166e+08</td>\n",
       "      <td>4.141745e+08</td>\n",
       "      <td>4.391579e+08</td>\n",
       "      <td>4.456020e+08</td>\n",
       "      <td>4.470590e+08</td>\n",
       "      <td>4.242220e+08</td>\n",
       "    </tr>\n",
       "    <tr>\n",
       "      <th>GIFT BOX CHOCOLATES</th>\n",
       "      <td>6.781607e+07</td>\n",
       "      <td>6.994806e+07</td>\n",
       "      <td>6.578834e+07</td>\n",
       "      <td>6.563441e+07</td>\n",
       "      <td>7.758003e+07</td>\n",
       "      <td>7.949501e+07</td>\n",
       "    </tr>\n",
       "    <tr>\n",
       "      <th>NOVELTY CHOCOLATE CANDY</th>\n",
       "      <td>1.161642e+06</td>\n",
       "      <td>6.161966e+05</td>\n",
       "      <td>7.104009e+05</td>\n",
       "      <td>1.887566e+06</td>\n",
       "      <td>1.691430e+06</td>\n",
       "      <td>1.404330e+06</td>\n",
       "    </tr>\n",
       "    <tr>\n",
       "      <th>SEASONAL CHOCOLATE AO SEASONAL CANDY</th>\n",
       "      <td>2.677197e+06</td>\n",
       "      <td>3.414757e+06</td>\n",
       "      <td>3.747523e+06</td>\n",
       "      <td>3.854850e+06</td>\n",
       "      <td>3.600995e+06</td>\n",
       "      <td>3.022545e+06</td>\n",
       "    </tr>\n",
       "    <tr>\n",
       "      <th>SEASONAL CHOCOLATE CHRISTMAS CANDY</th>\n",
       "      <td>1.341640e+08</td>\n",
       "      <td>1.507286e+08</td>\n",
       "      <td>1.529473e+08</td>\n",
       "      <td>1.662897e+08</td>\n",
       "      <td>1.653152e+08</td>\n",
       "      <td>1.712013e+08</td>\n",
       "    </tr>\n",
       "    <tr>\n",
       "      <th>SEASONAL CHOCOLATE EASTER CANDY</th>\n",
       "      <td>1.883273e+08</td>\n",
       "      <td>1.997152e+08</td>\n",
       "      <td>2.289184e+08</td>\n",
       "      <td>2.366676e+08</td>\n",
       "      <td>2.143763e+08</td>\n",
       "      <td>2.430658e+08</td>\n",
       "    </tr>\n",
       "    <tr>\n",
       "      <th>SEASONAL CHOCOLATE HALLOWEEN CANDY</th>\n",
       "      <td>4.545534e+07</td>\n",
       "      <td>4.203398e+07</td>\n",
       "      <td>4.408336e+07</td>\n",
       "      <td>5.299481e+07</td>\n",
       "      <td>6.073570e+07</td>\n",
       "      <td>6.796362e+07</td>\n",
       "    </tr>\n",
       "    <tr>\n",
       "      <th>SEASONAL CHOCOLATE VALENTINE CANDY</th>\n",
       "      <td>1.062479e+08</td>\n",
       "      <td>1.025686e+08</td>\n",
       "      <td>1.040453e+08</td>\n",
       "      <td>1.107547e+08</td>\n",
       "      <td>1.209121e+08</td>\n",
       "      <td>1.348535e+08</td>\n",
       "    </tr>\n",
       "    <tr>\n",
       "      <th>SUGAR FREE CHOCOLATE CANDY</th>\n",
       "      <td>3.544182e+07</td>\n",
       "      <td>3.631511e+07</td>\n",
       "      <td>3.566162e+07</td>\n",
       "      <td>3.617179e+07</td>\n",
       "      <td>3.644964e+07</td>\n",
       "      <td>3.499163e+07</td>\n",
       "    </tr>\n",
       "    <tr>\n",
       "      <th>CATEGORY - TOTAL CHOCOLATE CANDY</th>\n",
       "      <td>2.769399e+09</td>\n",
       "      <td>2.965826e+09</td>\n",
       "      <td>3.103441e+09</td>\n",
       "      <td>3.209990e+09</td>\n",
       "      <td>3.335173e+09</td>\n",
       "      <td>3.477248e+09</td>\n",
       "    </tr>\n",
       "    <tr>\n",
       "      <th>BREATH FRESHENER</th>\n",
       "      <td>1.325770e+08</td>\n",
       "      <td>1.356703e+08</td>\n",
       "      <td>1.402533e+08</td>\n",
       "      <td>1.447718e+08</td>\n",
       "      <td>1.528177e+08</td>\n",
       "      <td>1.655257e+08</td>\n",
       "    </tr>\n",
       "    <tr>\n",
       "      <th>CARAMEL/TAFFY APPLES/KITS/DIPS</th>\n",
       "      <td>6.131471e+07</td>\n",
       "      <td>6.256927e+07</td>\n",
       "      <td>6.006738e+07</td>\n",
       "      <td>5.528619e+07</td>\n",
       "      <td>5.811632e+07</td>\n",
       "      <td>5.838855e+07</td>\n",
       "    </tr>\n",
       "    <tr>\n",
       "      <th>HARD SUGAR CANDY/PKG &amp; ROLL CANDY</th>\n",
       "      <td>1.216485e+08</td>\n",
       "      <td>1.234664e+08</td>\n",
       "      <td>1.255254e+08</td>\n",
       "      <td>1.416202e+08</td>\n",
       "      <td>1.467977e+08</td>\n",
       "      <td>1.409891e+08</td>\n",
       "    </tr>\n",
       "    <tr>\n",
       "      <th>LICORICE BOX/BAG</th>\n",
       "      <td>1.255008e+08</td>\n",
       "      <td>1.312473e+08</td>\n",
       "      <td>1.387750e+08</td>\n",
       "      <td>1.463221e+08</td>\n",
       "      <td>1.498052e+08</td>\n",
       "      <td>1.407177e+08</td>\n",
       "    </tr>\n",
       "    <tr>\n",
       "      <th>NON CHOCOLATE CHEWY CANDY</th>\n",
       "      <td>4.414166e+08</td>\n",
       "      <td>4.833960e+08</td>\n",
       "      <td>4.930214e+08</td>\n",
       "      <td>4.958235e+08</td>\n",
       "      <td>5.376735e+08</td>\n",
       "      <td>5.770108e+08</td>\n",
       "    </tr>\n",
       "    <tr>\n",
       "      <th>NOVELTY NON-CHOCOLATE CANDY</th>\n",
       "      <td>1.405364e+08</td>\n",
       "      <td>1.464616e+08</td>\n",
       "      <td>1.435290e+08</td>\n",
       "      <td>1.519096e+08</td>\n",
       "      <td>1.571494e+08</td>\n",
       "      <td>1.627957e+08</td>\n",
       "    </tr>\n",
       "    <tr>\n",
       "      <th>PLAIN MINTS</th>\n",
       "      <td>7.389779e+07</td>\n",
       "      <td>7.514222e+07</td>\n",
       "      <td>7.692875e+07</td>\n",
       "      <td>7.731317e+07</td>\n",
       "      <td>7.968622e+07</td>\n",
       "      <td>8.273935e+07</td>\n",
       "    </tr>\n",
       "    <tr>\n",
       "      <th>PLU - ALL BRANDS CANDY</th>\n",
       "      <td>1.537336e+04</td>\n",
       "      <td>1.147638e+04</td>\n",
       "      <td>1.712657e+03</td>\n",
       "      <td>2.340926e+03</td>\n",
       "      <td>9.234140e+00</td>\n",
       "      <td>0.000000e+00</td>\n",
       "    </tr>\n",
       "    <tr>\n",
       "      <th>SEASONAL NON-CHOCOLATE AO SEASONL CANDY</th>\n",
       "      <td>1.754027e+06</td>\n",
       "      <td>1.830987e+06</td>\n",
       "      <td>1.656078e+06</td>\n",
       "      <td>1.862609e+06</td>\n",
       "      <td>2.875890e+06</td>\n",
       "      <td>3.806137e+06</td>\n",
       "    </tr>\n",
       "    <tr>\n",
       "      <th>SEASONAL NON-CHOCOLATE CHRISTMAS CANDY</th>\n",
       "      <td>4.028118e+07</td>\n",
       "      <td>4.174685e+07</td>\n",
       "      <td>4.151454e+07</td>\n",
       "      <td>4.238948e+07</td>\n",
       "      <td>4.362824e+07</td>\n",
       "      <td>4.659537e+07</td>\n",
       "    </tr>\n",
       "    <tr>\n",
       "      <th>SEASONAL NON-CHOCOLATE EASTER CANDY</th>\n",
       "      <td>4.286607e+07</td>\n",
       "      <td>4.865641e+07</td>\n",
       "      <td>5.756964e+07</td>\n",
       "      <td>5.391415e+07</td>\n",
       "      <td>5.431364e+07</td>\n",
       "      <td>5.467662e+07</td>\n",
       "    </tr>\n",
       "    <tr>\n",
       "      <th>SEASONAL NON-CHOCOLATE HALLOWEEN CANDY</th>\n",
       "      <td>4.492516e+07</td>\n",
       "      <td>4.090500e+07</td>\n",
       "      <td>4.490300e+07</td>\n",
       "      <td>3.755785e+07</td>\n",
       "      <td>4.616236e+07</td>\n",
       "      <td>4.551927e+07</td>\n",
       "    </tr>\n",
       "    <tr>\n",
       "      <th>SEASONAL NON-CHOCOLATE VALENTINE CANDY</th>\n",
       "      <td>2.483409e+07</td>\n",
       "      <td>2.551483e+07</td>\n",
       "      <td>2.609213e+07</td>\n",
       "      <td>2.679407e+07</td>\n",
       "      <td>2.914511e+07</td>\n",
       "      <td>2.801266e+07</td>\n",
       "    </tr>\n",
       "    <tr>\n",
       "      <th>SPECIALTY NUT/COCONUT CANDY</th>\n",
       "      <td>5.172847e+07</td>\n",
       "      <td>5.674882e+07</td>\n",
       "      <td>6.120840e+07</td>\n",
       "      <td>6.614051e+07</td>\n",
       "      <td>6.942091e+07</td>\n",
       "      <td>6.997290e+07</td>\n",
       "    </tr>\n",
       "    <tr>\n",
       "      <th>SUGAR FREE DIET CANDY</th>\n",
       "      <td>3.094090e+07</td>\n",
       "      <td>3.152027e+07</td>\n",
       "      <td>2.997070e+07</td>\n",
       "      <td>2.957715e+07</td>\n",
       "      <td>2.928760e+07</td>\n",
       "      <td>2.716311e+07</td>\n",
       "    </tr>\n",
       "    <tr>\n",
       "      <th>CATEGORY - TOTAL NON-CHOCOLATE CANDY</th>\n",
       "      <td>1.334237e+09</td>\n",
       "      <td>1.404888e+09</td>\n",
       "      <td>1.441016e+09</td>\n",
       "      <td>1.471285e+09</td>\n",
       "      <td>1.556880e+09</td>\n",
       "      <td>1.603913e+09</td>\n",
       "    </tr>\n",
       "    <tr>\n",
       "      <th>REGULAR GUM (NO SUGARLESS)</th>\n",
       "      <td>1.202605e+08</td>\n",
       "      <td>1.096257e+08</td>\n",
       "      <td>1.054140e+08</td>\n",
       "      <td>9.680839e+07</td>\n",
       "      <td>9.006376e+07</td>\n",
       "      <td>8.595776e+07</td>\n",
       "    </tr>\n",
       "    <tr>\n",
       "      <th>SUGARLESS GUM</th>\n",
       "      <td>6.662083e+08</td>\n",
       "      <td>7.028893e+08</td>\n",
       "      <td>6.793868e+08</td>\n",
       "      <td>6.453578e+08</td>\n",
       "      <td>6.137658e+08</td>\n",
       "      <td>5.954888e+08</td>\n",
       "    </tr>\n",
       "    <tr>\n",
       "      <th>CATEGORY - GUM</th>\n",
       "      <td>7.864688e+08</td>\n",
       "      <td>8.125149e+08</td>\n",
       "      <td>7.848008e+08</td>\n",
       "      <td>7.421661e+08</td>\n",
       "      <td>7.038295e+08</td>\n",
       "      <td>6.814466e+08</td>\n",
       "    </tr>\n",
       "  </tbody>\n",
       "</table>\n",
       "</div>"
      ],
      "text/plain": [
       "                                                 2009          2010  \\\n",
       "candy                                                                 \n",
       "TOTAL CANDY & GUM                        4.890105e+09  5.183228e+09   \n",
       "CHOCOLATE CANDY BAR small                6.110693e+08           NaN   \n",
       "CHOCOLATE CANDY BOX/BAG/BAR large        1.191622e+09           NaN   \n",
       "CHOCOLATE CANDY SNACK SIZE               3.854166e+08  4.141745e+08   \n",
       "GIFT BOX CHOCOLATES                      6.781607e+07  6.994806e+07   \n",
       "NOVELTY CHOCOLATE CANDY                  1.161642e+06  6.161966e+05   \n",
       "SEASONAL CHOCOLATE AO SEASONAL CANDY     2.677197e+06  3.414757e+06   \n",
       "SEASONAL CHOCOLATE CHRISTMAS CANDY       1.341640e+08  1.507286e+08   \n",
       "SEASONAL CHOCOLATE EASTER CANDY          1.883273e+08  1.997152e+08   \n",
       "SEASONAL CHOCOLATE HALLOWEEN CANDY       4.545534e+07  4.203398e+07   \n",
       "SEASONAL CHOCOLATE VALENTINE CANDY       1.062479e+08  1.025686e+08   \n",
       "SUGAR FREE CHOCOLATE CANDY               3.544182e+07  3.631511e+07   \n",
       "CATEGORY - TOTAL CHOCOLATE CANDY         2.769399e+09  2.965826e+09   \n",
       "BREATH FRESHENER                         1.325770e+08  1.356703e+08   \n",
       "CARAMEL/TAFFY APPLES/KITS/DIPS           6.131471e+07  6.256927e+07   \n",
       "HARD SUGAR CANDY/PKG & ROLL CANDY        1.216485e+08  1.234664e+08   \n",
       "LICORICE BOX/BAG                         1.255008e+08  1.312473e+08   \n",
       "NON CHOCOLATE CHEWY CANDY                4.414166e+08  4.833960e+08   \n",
       "NOVELTY NON-CHOCOLATE CANDY              1.405364e+08  1.464616e+08   \n",
       "PLAIN MINTS                              7.389779e+07  7.514222e+07   \n",
       "PLU - ALL BRANDS CANDY                   1.537336e+04  1.147638e+04   \n",
       "SEASONAL NON-CHOCOLATE AO SEASONL CANDY  1.754027e+06  1.830987e+06   \n",
       "SEASONAL NON-CHOCOLATE CHRISTMAS CANDY   4.028118e+07  4.174685e+07   \n",
       "SEASONAL NON-CHOCOLATE EASTER CANDY      4.286607e+07  4.865641e+07   \n",
       "SEASONAL NON-CHOCOLATE HALLOWEEN CANDY   4.492516e+07  4.090500e+07   \n",
       "SEASONAL NON-CHOCOLATE VALENTINE CANDY   2.483409e+07  2.551483e+07   \n",
       "SPECIALTY NUT/COCONUT CANDY              5.172847e+07  5.674882e+07   \n",
       "SUGAR FREE DIET CANDY                    3.094090e+07  3.152027e+07   \n",
       "CATEGORY - TOTAL NON-CHOCOLATE CANDY     1.334237e+09  1.404888e+09   \n",
       "REGULAR GUM (NO SUGARLESS)               1.202605e+08  1.096257e+08   \n",
       "SUGARLESS GUM                            6.662083e+08  7.028893e+08   \n",
       "CATEGORY - GUM                           7.864688e+08  8.125149e+08   \n",
       "\n",
       "                                                 2011          2012  \\\n",
       "candy                                                                 \n",
       "TOTAL CANDY & GUM                        5.329258e+09  5.423441e+09   \n",
       "CHOCOLATE CANDY BAR small                         NaN           NaN   \n",
       "CHOCOLATE CANDY BOX/BAG/BAR large                 NaN           NaN   \n",
       "CHOCOLATE CANDY SNACK SIZE               4.391579e+08  4.456020e+08   \n",
       "GIFT BOX CHOCOLATES                      6.578834e+07  6.563441e+07   \n",
       "NOVELTY CHOCOLATE CANDY                  7.104009e+05  1.887566e+06   \n",
       "SEASONAL CHOCOLATE AO SEASONAL CANDY     3.747523e+06  3.854850e+06   \n",
       "SEASONAL CHOCOLATE CHRISTMAS CANDY       1.529473e+08  1.662897e+08   \n",
       "SEASONAL CHOCOLATE EASTER CANDY          2.289184e+08  2.366676e+08   \n",
       "SEASONAL CHOCOLATE HALLOWEEN CANDY       4.408336e+07  5.299481e+07   \n",
       "SEASONAL CHOCOLATE VALENTINE CANDY       1.040453e+08  1.107547e+08   \n",
       "SUGAR FREE CHOCOLATE CANDY               3.566162e+07  3.617179e+07   \n",
       "CATEGORY - TOTAL CHOCOLATE CANDY         3.103441e+09  3.209990e+09   \n",
       "BREATH FRESHENER                         1.402533e+08  1.447718e+08   \n",
       "CARAMEL/TAFFY APPLES/KITS/DIPS           6.006738e+07  5.528619e+07   \n",
       "HARD SUGAR CANDY/PKG & ROLL CANDY        1.255254e+08  1.416202e+08   \n",
       "LICORICE BOX/BAG                         1.387750e+08  1.463221e+08   \n",
       "NON CHOCOLATE CHEWY CANDY                4.930214e+08  4.958235e+08   \n",
       "NOVELTY NON-CHOCOLATE CANDY              1.435290e+08  1.519096e+08   \n",
       "PLAIN MINTS                              7.692875e+07  7.731317e+07   \n",
       "PLU - ALL BRANDS CANDY                   1.712657e+03  2.340926e+03   \n",
       "SEASONAL NON-CHOCOLATE AO SEASONL CANDY  1.656078e+06  1.862609e+06   \n",
       "SEASONAL NON-CHOCOLATE CHRISTMAS CANDY   4.151454e+07  4.238948e+07   \n",
       "SEASONAL NON-CHOCOLATE EASTER CANDY      5.756964e+07  5.391415e+07   \n",
       "SEASONAL NON-CHOCOLATE HALLOWEEN CANDY   4.490300e+07  3.755785e+07   \n",
       "SEASONAL NON-CHOCOLATE VALENTINE CANDY   2.609213e+07  2.679407e+07   \n",
       "SPECIALTY NUT/COCONUT CANDY              6.120840e+07  6.614051e+07   \n",
       "SUGAR FREE DIET CANDY                    2.997070e+07  2.957715e+07   \n",
       "CATEGORY - TOTAL NON-CHOCOLATE CANDY     1.441016e+09  1.471285e+09   \n",
       "REGULAR GUM (NO SUGARLESS)               1.054140e+08  9.680839e+07   \n",
       "SUGARLESS GUM                            6.793868e+08  6.453578e+08   \n",
       "CATEGORY - GUM                           7.848008e+08  7.421661e+08   \n",
       "\n",
       "                                                 2013          2014  \n",
       "candy                                                                \n",
       "TOTAL CANDY & GUM                        5.595882e+09  5.762608e+09  \n",
       "CHOCOLATE CANDY BAR small                         NaN           NaN  \n",
       "CHOCOLATE CANDY BOX/BAG/BAR large                 NaN           NaN  \n",
       "CHOCOLATE CANDY SNACK SIZE               4.470590e+08  4.242220e+08  \n",
       "GIFT BOX CHOCOLATES                      7.758003e+07  7.949501e+07  \n",
       "NOVELTY CHOCOLATE CANDY                  1.691430e+06  1.404330e+06  \n",
       "SEASONAL CHOCOLATE AO SEASONAL CANDY     3.600995e+06  3.022545e+06  \n",
       "SEASONAL CHOCOLATE CHRISTMAS CANDY       1.653152e+08  1.712013e+08  \n",
       "SEASONAL CHOCOLATE EASTER CANDY          2.143763e+08  2.430658e+08  \n",
       "SEASONAL CHOCOLATE HALLOWEEN CANDY       6.073570e+07  6.796362e+07  \n",
       "SEASONAL CHOCOLATE VALENTINE CANDY       1.209121e+08  1.348535e+08  \n",
       "SUGAR FREE CHOCOLATE CANDY               3.644964e+07  3.499163e+07  \n",
       "CATEGORY - TOTAL CHOCOLATE CANDY         3.335173e+09  3.477248e+09  \n",
       "BREATH FRESHENER                         1.528177e+08  1.655257e+08  \n",
       "CARAMEL/TAFFY APPLES/KITS/DIPS           5.811632e+07  5.838855e+07  \n",
       "HARD SUGAR CANDY/PKG & ROLL CANDY        1.467977e+08  1.409891e+08  \n",
       "LICORICE BOX/BAG                         1.498052e+08  1.407177e+08  \n",
       "NON CHOCOLATE CHEWY CANDY                5.376735e+08  5.770108e+08  \n",
       "NOVELTY NON-CHOCOLATE CANDY              1.571494e+08  1.627957e+08  \n",
       "PLAIN MINTS                              7.968622e+07  8.273935e+07  \n",
       "PLU - ALL BRANDS CANDY                   9.234140e+00  0.000000e+00  \n",
       "SEASONAL NON-CHOCOLATE AO SEASONL CANDY  2.875890e+06  3.806137e+06  \n",
       "SEASONAL NON-CHOCOLATE CHRISTMAS CANDY   4.362824e+07  4.659537e+07  \n",
       "SEASONAL NON-CHOCOLATE EASTER CANDY      5.431364e+07  5.467662e+07  \n",
       "SEASONAL NON-CHOCOLATE HALLOWEEN CANDY   4.616236e+07  4.551927e+07  \n",
       "SEASONAL NON-CHOCOLATE VALENTINE CANDY   2.914511e+07  2.801266e+07  \n",
       "SPECIALTY NUT/COCONUT CANDY              6.942091e+07  6.997290e+07  \n",
       "SUGAR FREE DIET CANDY                    2.928760e+07  2.716311e+07  \n",
       "CATEGORY - TOTAL NON-CHOCOLATE CANDY     1.556880e+09  1.603913e+09  \n",
       "REGULAR GUM (NO SUGARLESS)               9.006376e+07  8.595776e+07  \n",
       "SUGARLESS GUM                            6.137658e+08  5.954888e+08  \n",
       "CATEGORY - GUM                           7.038295e+08  6.814466e+08  "
      ]
     },
     "execution_count": 22,
     "metadata": {},
     "output_type": "execute_result"
    }
   ],
   "source": [
    "alldata"
   ]
  },
  {
   "cell_type": "code",
   "execution_count": 24,
   "metadata": {
    "collapsed": true
   },
   "outputs": [],
   "source": [
    "%matplotlib inline\n",
    "import matplotlib.pyplot as plt"
   ]
  },
  {
   "cell_type": "code",
   "execution_count": 29,
   "metadata": {
    "collapsed": false
   },
   "outputs": [
    {
     "data": {
      "text/plain": [
       "Index(['2009', '2010', '2011', '2012', '2013', '2014'], dtype='object')"
      ]
     },
     "execution_count": 29,
     "metadata": {},
     "output_type": "execute_result"
    }
   ],
   "source": [
    "alldata.keys()"
   ]
  },
  {
   "cell_type": "code",
   "execution_count": 31,
   "metadata": {
    "collapsed": false
   },
   "outputs": [],
   "source": [
    "ad = alldata.transpose()"
   ]
  },
  {
   "cell_type": "code",
   "execution_count": 33,
   "metadata": {
    "collapsed": false
   },
   "outputs": [
    {
     "data": {
      "text/plain": [
       "[<matplotlib.lines.Line2D at 0x7fd90b339550>]"
      ]
     },
     "execution_count": 33,
     "metadata": {},
     "output_type": "execute_result"
    },
    {
     "data": {
      "image/png": "[encoded data removed]",
      "text/plain": [
       "<matplotlib.figure.Figure at 0x7fd90d68c048>"
      ]
     },
     "metadata": {},
     "output_type": "display_data"
    }
   ],
   "source": [
    "plt.plot(ad['TOTAL CANDY & GUM'])"
   ]
  },
  {
   "cell_type": "code",
   "execution_count": 34,
   "metadata": {
    "collapsed": false
   },
   "outputs": [
    {
     "data": {
      "text/html": [
       "<div>\n",
       "<table border=\"1\" class=\"dataframe\">\n",
       "  <thead>\n",
       "    <tr style=\"text-align: right;\">\n",
       "      <th>candy</th>\n",
       "      <th>TOTAL CANDY &amp; GUM</th>\n",
       "      <th>CHOCOLATE CANDY BAR small</th>\n",
       "      <th>CHOCOLATE CANDY BOX/BAG/BAR large</th>\n",
       "      <th>CHOCOLATE CANDY SNACK SIZE</th>\n",
       "      <th>GIFT BOX CHOCOLATES</th>\n",
       "      <th>NOVELTY CHOCOLATE CANDY</th>\n",
       "      <th>SEASONAL CHOCOLATE AO SEASONAL CANDY</th>\n",
       "      <th>SEASONAL CHOCOLATE CHRISTMAS CANDY</th>\n",
       "      <th>SEASONAL CHOCOLATE EASTER CANDY</th>\n",
       "      <th>SEASONAL CHOCOLATE HALLOWEEN CANDY</th>\n",
       "      <th>...</th>\n",
       "      <th>SEASONAL NON-CHOCOLATE CHRISTMAS CANDY</th>\n",
       "      <th>SEASONAL NON-CHOCOLATE EASTER CANDY</th>\n",
       "      <th>SEASONAL NON-CHOCOLATE HALLOWEEN CANDY</th>\n",
       "      <th>SEASONAL NON-CHOCOLATE VALENTINE CANDY</th>\n",
       "      <th>SPECIALTY NUT/COCONUT CANDY</th>\n",
       "      <th>SUGAR FREE DIET CANDY</th>\n",
       "      <th>CATEGORY - TOTAL NON-CHOCOLATE CANDY</th>\n",
       "      <th>REGULAR GUM (NO SUGARLESS)</th>\n",
       "      <th>SUGARLESS GUM</th>\n",
       "      <th>CATEGORY - GUM</th>\n",
       "    </tr>\n",
       "  </thead>\n",
       "  <tbody>\n",
       "    <tr>\n",
       "      <th>2009</th>\n",
       "      <td>4.890105e+09</td>\n",
       "      <td>611069300.0</td>\n",
       "      <td>1.191622e+09</td>\n",
       "      <td>385416600.0</td>\n",
       "      <td>67816070.0</td>\n",
       "      <td>1161642.000</td>\n",
       "      <td>2677197.00</td>\n",
       "      <td>134164000.0</td>\n",
       "      <td>188327300.0</td>\n",
       "      <td>45455340.0</td>\n",
       "      <td>...</td>\n",
       "      <td>40281180.0</td>\n",
       "      <td>42866070.0</td>\n",
       "      <td>44925160.0</td>\n",
       "      <td>24834090.0</td>\n",
       "      <td>51728470.0</td>\n",
       "      <td>30940900.0</td>\n",
       "      <td>1.334237e+09</td>\n",
       "      <td>120260500.0</td>\n",
       "      <td>666208300.0</td>\n",
       "      <td>786468800.0</td>\n",
       "    </tr>\n",
       "    <tr>\n",
       "      <th>2010</th>\n",
       "      <td>5.183228e+09</td>\n",
       "      <td>NaN</td>\n",
       "      <td>NaN</td>\n",
       "      <td>414174500.0</td>\n",
       "      <td>69948060.0</td>\n",
       "      <td>616196.600</td>\n",
       "      <td>3414757.00</td>\n",
       "      <td>150728600.0</td>\n",
       "      <td>199715200.0</td>\n",
       "      <td>42033980.0</td>\n",
       "      <td>...</td>\n",
       "      <td>41746850.0</td>\n",
       "      <td>48656410.0</td>\n",
       "      <td>40905000.0</td>\n",
       "      <td>25514830.0</td>\n",
       "      <td>56748820.0</td>\n",
       "      <td>31520270.0</td>\n",
       "      <td>1.404888e+09</td>\n",
       "      <td>109625700.0</td>\n",
       "      <td>702889300.0</td>\n",
       "      <td>812514900.0</td>\n",
       "    </tr>\n",
       "    <tr>\n",
       "      <th>2011</th>\n",
       "      <td>5.329258e+09</td>\n",
       "      <td>NaN</td>\n",
       "      <td>NaN</td>\n",
       "      <td>439157900.0</td>\n",
       "      <td>65788340.0</td>\n",
       "      <td>710400.900</td>\n",
       "      <td>3747523.00</td>\n",
       "      <td>152947300.0</td>\n",
       "      <td>228918400.0</td>\n",
       "      <td>44083360.0</td>\n",
       "      <td>...</td>\n",
       "      <td>41514540.0</td>\n",
       "      <td>57569640.0</td>\n",
       "      <td>44903000.0</td>\n",
       "      <td>26092130.0</td>\n",
       "      <td>61208400.0</td>\n",
       "      <td>29970700.0</td>\n",
       "      <td>1.441016e+09</td>\n",
       "      <td>105414000.0</td>\n",
       "      <td>679386800.0</td>\n",
       "      <td>784800800.0</td>\n",
       "    </tr>\n",
       "    <tr>\n",
       "      <th>2012</th>\n",
       "      <td>5.423441e+09</td>\n",
       "      <td>NaN</td>\n",
       "      <td>NaN</td>\n",
       "      <td>445602000.0</td>\n",
       "      <td>65634410.0</td>\n",
       "      <td>1887566.000</td>\n",
       "      <td>3854850.00</td>\n",
       "      <td>166289700.0</td>\n",
       "      <td>236667600.0</td>\n",
       "      <td>52994810.0</td>\n",
       "      <td>...</td>\n",
       "      <td>42389480.0</td>\n",
       "      <td>53914150.0</td>\n",
       "      <td>37557850.0</td>\n",
       "      <td>26794070.0</td>\n",
       "      <td>66140510.0</td>\n",
       "      <td>29577150.0</td>\n",
       "      <td>1.471285e+09</td>\n",
       "      <td>96808390.0</td>\n",
       "      <td>645357800.0</td>\n",
       "      <td>742166100.0</td>\n",
       "    </tr>\n",
       "    <tr>\n",
       "      <th>2013</th>\n",
       "      <td>5.595882e+09</td>\n",
       "      <td>NaN</td>\n",
       "      <td>NaN</td>\n",
       "      <td>447059008.0</td>\n",
       "      <td>77580032.0</td>\n",
       "      <td>1691429.625</td>\n",
       "      <td>3600995.00</td>\n",
       "      <td>165315152.0</td>\n",
       "      <td>214376288.0</td>\n",
       "      <td>60735700.0</td>\n",
       "      <td>...</td>\n",
       "      <td>43628240.0</td>\n",
       "      <td>54313644.0</td>\n",
       "      <td>46162360.0</td>\n",
       "      <td>29145114.0</td>\n",
       "      <td>69420912.0</td>\n",
       "      <td>29287604.0</td>\n",
       "      <td>1.556880e+09</td>\n",
       "      <td>90063760.0</td>\n",
       "      <td>613765760.0</td>\n",
       "      <td>703829504.0</td>\n",
       "    </tr>\n",
       "    <tr>\n",
       "      <th>2014</th>\n",
       "      <td>5.762608e+09</td>\n",
       "      <td>NaN</td>\n",
       "      <td>NaN</td>\n",
       "      <td>424221984.0</td>\n",
       "      <td>79495008.0</td>\n",
       "      <td>1404329.500</td>\n",
       "      <td>3022545.25</td>\n",
       "      <td>171201328.0</td>\n",
       "      <td>243065792.0</td>\n",
       "      <td>67963616.0</td>\n",
       "      <td>...</td>\n",
       "      <td>46595372.0</td>\n",
       "      <td>54676624.0</td>\n",
       "      <td>45519268.0</td>\n",
       "      <td>28012660.0</td>\n",
       "      <td>69972904.0</td>\n",
       "      <td>27163112.0</td>\n",
       "      <td>1.603913e+09</td>\n",
       "      <td>85957760.0</td>\n",
       "      <td>595488832.0</td>\n",
       "      <td>681446592.0</td>\n",
       "    </tr>\n",
       "  </tbody>\n",
       "</table>\n",
       "<p>6 rows × 32 columns</p>\n",
       "</div>"
      ],
      "text/plain": [
       "candy  TOTAL CANDY & GUM  CHOCOLATE CANDY BAR small  \\\n",
       "2009        4.890105e+09                611069300.0   \n",
       "2010        5.183228e+09                        NaN   \n",
       "2011        5.329258e+09                        NaN   \n",
       "2012        5.423441e+09                        NaN   \n",
       "2013        5.595882e+09                        NaN   \n",
       "2014        5.762608e+09                        NaN   \n",
       "\n",
       "candy  CHOCOLATE CANDY BOX/BAG/BAR large  CHOCOLATE CANDY SNACK SIZE  \\\n",
       "2009                        1.191622e+09                 385416600.0   \n",
       "2010                                 NaN                 414174500.0   \n",
       "2011                                 NaN                 439157900.0   \n",
       "2012                                 NaN                 445602000.0   \n",
       "2013                                 NaN                 447059008.0   \n",
       "2014                                 NaN                 424221984.0   \n",
       "\n",
       "candy  GIFT BOX CHOCOLATES  NOVELTY CHOCOLATE CANDY  \\\n",
       "2009            67816070.0              1161642.000   \n",
       "2010            69948060.0               616196.600   \n",
       "2011            65788340.0               710400.900   \n",
       "2012            65634410.0              1887566.000   \n",
       "2013            77580032.0              1691429.625   \n",
       "2014            79495008.0              1404329.500   \n",
       "\n",
       "candy  SEASONAL CHOCOLATE AO SEASONAL CANDY  \\\n",
       "2009                             2677197.00   \n",
       "2010                             3414757.00   \n",
       "2011                             3747523.00   \n",
       "2012                             3854850.00   \n",
       "2013                             3600995.00   \n",
       "2014                             3022545.25   \n",
       "\n",
       "candy  SEASONAL CHOCOLATE CHRISTMAS CANDY  SEASONAL CHOCOLATE EASTER CANDY  \\\n",
       "2009                          134164000.0                      188327300.0   \n",
       "2010                          150728600.0                      199715200.0   \n",
       "2011                          152947300.0                      228918400.0   \n",
       "2012                          166289700.0                      236667600.0   \n",
       "2013                          165315152.0                      214376288.0   \n",
       "2014                          171201328.0                      243065792.0   \n",
       "\n",
       "candy  SEASONAL CHOCOLATE HALLOWEEN CANDY       ...        \\\n",
       "2009                           45455340.0       ...         \n",
       "2010                           42033980.0       ...         \n",
       "2011                           44083360.0       ...         \n",
       "2012                           52994810.0       ...         \n",
       "2013                           60735700.0       ...         \n",
       "2014                           67963616.0       ...         \n",
       "\n",
       "candy  SEASONAL NON-CHOCOLATE CHRISTMAS CANDY  \\\n",
       "2009                               40281180.0   \n",
       "2010                               41746850.0   \n",
       "2011                               41514540.0   \n",
       "2012                               42389480.0   \n",
       "2013                               43628240.0   \n",
       "2014                               46595372.0   \n",
       "\n",
       "candy  SEASONAL NON-CHOCOLATE EASTER CANDY  \\\n",
       "2009                            42866070.0   \n",
       "2010                            48656410.0   \n",
       "2011                            57569640.0   \n",
       "2012                            53914150.0   \n",
       "2013                            54313644.0   \n",
       "2014                            54676624.0   \n",
       "\n",
       "candy  SEASONAL NON-CHOCOLATE HALLOWEEN CANDY  \\\n",
       "2009                               44925160.0   \n",
       "2010                               40905000.0   \n",
       "2011                               44903000.0   \n",
       "2012                               37557850.0   \n",
       "2013                               46162360.0   \n",
       "2014                               45519268.0   \n",
       "\n",
       "candy  SEASONAL NON-CHOCOLATE VALENTINE CANDY  SPECIALTY NUT/COCONUT CANDY  \\\n",
       "2009                               24834090.0                   51728470.0   \n",
       "2010                               25514830.0                   56748820.0   \n",
       "2011                               26092130.0                   61208400.0   \n",
       "2012                               26794070.0                   66140510.0   \n",
       "2013                               29145114.0                   69420912.0   \n",
       "2014                               28012660.0                   69972904.0   \n",
       "\n",
       "candy  SUGAR FREE DIET CANDY  CATEGORY - TOTAL NON-CHOCOLATE CANDY  \\\n",
       "2009              30940900.0                          1.334237e+09   \n",
       "2010              31520270.0                          1.404888e+09   \n",
       "2011              29970700.0                          1.441016e+09   \n",
       "2012              29577150.0                          1.471285e+09   \n",
       "2013              29287604.0                          1.556880e+09   \n",
       "2014              27163112.0                          1.603913e+09   \n",
       "\n",
       "candy  REGULAR GUM (NO SUGARLESS)  SUGARLESS GUM  CATEGORY - GUM  \n",
       "2009                  120260500.0    666208300.0     786468800.0  \n",
       "2010                  109625700.0    702889300.0     812514900.0  \n",
       "2011                  105414000.0    679386800.0     784800800.0  \n",
       "2012                   96808390.0    645357800.0     742166100.0  \n",
       "2013                   90063760.0    613765760.0     703829504.0  \n",
       "2014                   85957760.0    595488832.0     681446592.0  \n",
       "\n",
       "[6 rows x 32 columns]"
      ]
     },
     "execution_count": 34,
     "metadata": {},
     "output_type": "execute_result"
    }
   ],
   "source": [
    "ad"
   ]
  },
  {
   "cell_type": "code",
   "execution_count": 36,
   "metadata": {
    "collapsed": false
   },
   "outputs": [
    {
     "data": {
      "text/plain": [
       "['SEASONAL CHOCOLATE HALLOWEEN CANDY',\n",
       " 'SEASONAL NON-CHOCOLATE HALLOWEEN CANDY']"
      ]
     },
     "execution_count": 36,
     "metadata": {},
     "output_type": "execute_result"
    }
   ],
   "source": [
    "hallo = []\n",
    "for k in ad.keys():\n",
    "    if 'HALLOWEEN' in k:\n",
    "        hallo.append(k)\n",
    "        \n",
    "hallo"
   ]
  },
  {
   "cell_type": "code",
   "execution_count": 38,
   "metadata": {
    "collapsed": false
   },
   "outputs": [],
   "source": [
    "ad_halloween = ad[hallo]"
   ]
  },
  {
   "cell_type": "code",
   "execution_count": 39,
   "metadata": {
    "collapsed": false
   },
   "outputs": [
    {
     "data": {
      "text/html": [
       "<div>\n",
       "<table border=\"1\" class=\"dataframe\">\n",
       "  <thead>\n",
       "    <tr style=\"text-align: right;\">\n",
       "      <th>candy</th>\n",
       "      <th>SEASONAL CHOCOLATE HALLOWEEN CANDY</th>\n",
       "      <th>SEASONAL NON-CHOCOLATE HALLOWEEN CANDY</th>\n",
       "    </tr>\n",
       "  </thead>\n",
       "  <tbody>\n",
       "    <tr>\n",
       "      <th>2009</th>\n",
       "      <td>45455340.0</td>\n",
       "      <td>44925160.0</td>\n",
       "    </tr>\n",
       "    <tr>\n",
       "      <th>2010</th>\n",
       "      <td>42033980.0</td>\n",
       "      <td>40905000.0</td>\n",
       "    </tr>\n",
       "    <tr>\n",
       "      <th>2011</th>\n",
       "      <td>44083360.0</td>\n",
       "      <td>44903000.0</td>\n",
       "    </tr>\n",
       "    <tr>\n",
       "      <th>2012</th>\n",
       "      <td>52994810.0</td>\n",
       "      <td>37557850.0</td>\n",
       "    </tr>\n",
       "    <tr>\n",
       "      <th>2013</th>\n",
       "      <td>60735700.0</td>\n",
       "      <td>46162360.0</td>\n",
       "    </tr>\n",
       "    <tr>\n",
       "      <th>2014</th>\n",
       "      <td>67963616.0</td>\n",
       "      <td>45519268.0</td>\n",
       "    </tr>\n",
       "  </tbody>\n",
       "</table>\n",
       "</div>"
      ],
      "text/plain": [
       "candy  SEASONAL CHOCOLATE HALLOWEEN CANDY  \\\n",
       "2009                           45455340.0   \n",
       "2010                           42033980.0   \n",
       "2011                           44083360.0   \n",
       "2012                           52994810.0   \n",
       "2013                           60735700.0   \n",
       "2014                           67963616.0   \n",
       "\n",
       "candy  SEASONAL NON-CHOCOLATE HALLOWEEN CANDY  \n",
       "2009                               44925160.0  \n",
       "2010                               40905000.0  \n",
       "2011                               44903000.0  \n",
       "2012                               37557850.0  \n",
       "2013                               46162360.0  \n",
       "2014                               45519268.0  "
      ]
     },
     "execution_count": 39,
     "metadata": {},
     "output_type": "execute_result"
    }
   ],
   "source": [
    "ad_halloween"
   ]
  },
  {
   "cell_type": "code",
   "execution_count": 40,
   "metadata": {
    "collapsed": false
   },
   "outputs": [
    {
     "data": {
      "text/plain": [
       "[<matplotlib.lines.Line2D at 0x7fd90ad88208>,\n",
       " <matplotlib.lines.Line2D at 0x7fd90ad88390>]"
      ]
     },
     "execution_count": 40,
     "metadata": {},
     "output_type": "execute_result"
    },
    {
     "data": {
      "image/png": "[encoded data removed]",
      "text/plain": [
       "<matplotlib.figure.Figure at 0x7fd90d644860>"
      ]
     },
     "metadata": {},
     "output_type": "display_data"
    }
   ],
   "source": [
    "plt.plot(ad_halloween)"
   ]
  },
  {
   "cell_type": "code",
   "execution_count": null,
   "metadata": {
    "collapsed": true
   },
   "outputs": [],
   "source": []
  }
 ],
 "metadata": {
  "kernelspec": {
   "display_name": "Python [Root]",
   "language": "python",
   "name": "Python [Root]"
  },
  "language_info": {
   "codemirror_mode": {
    "name": "ipython",
    "version": 3
   },
   "file_extension": ".py",
   "mimetype": "text/x-python",
   "name": "python",
   "nbconvert_exporter": "python",
   "pygments_lexer": "ipython3",
   "version": "3.5.2"
  }
 },
 "nbformat": 4,
 "nbformat_minor": 0
}
