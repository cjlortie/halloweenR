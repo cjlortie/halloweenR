{
 "cells": [
  {
   "cell_type": "code",
   "execution_count": 1,
   "metadata": {
    "collapsed": true
   },
   "outputs": [],
   "source": [
    "import os\n",
    "import pandas as pd\n",
    "import numpy as np"
   ]
  },
  {
   "cell_type": "code",
   "execution_count": 2,
   "metadata": {
    "collapsed": true
   },
   "outputs": [],
   "source": [
    "os.chdir('data/usa/')"
   ]
  },
  {
   "cell_type": "code",
   "execution_count": 3,
   "metadata": {
    "collapsed": false
   },
   "outputs": [],
   "source": [
    "filelist = []\n",
    "for f in os.listdir('.'):\n",
    "    if 'csv' in f and 'candy' in f:\n",
    "        filelist.append(f)"
   ]
  },
  {
   "cell_type": "code",
   "execution_count": 31,
   "metadata": {
    "collapsed": false
   },
   "outputs": [],
   "source": [
    "dsets = {}\n",
    "for f in filelist:\n",
    "    kint = int(f[0:4])\n",
    "    dsets[kint] = pd.read_csv(f)"
   ]
  },
  {
   "cell_type": "code",
   "execution_count": 32,
   "metadata": {
    "collapsed": true
   },
   "outputs": [],
   "source": [
    "for y in dsets.keys():\n",
    "    ystr = str(y)\n",
    "    dsets[y].columns = ['candy', '4weeks', '12weeks', ystr]\n",
    "    dsets[y].drop('12weeks', axis=1, inplace=True)\n",
    "    dsets[y].drop('4weeks', axis=1, inplace=True)"
   ]
  },
  {
   "cell_type": "code",
   "execution_count": 33,
   "metadata": {
    "collapsed": false
   },
   "outputs": [],
   "source": [
    "alldata = dsets[2009].copy()"
   ]
  },
  {
   "cell_type": "code",
   "execution_count": 34,
   "metadata": {
    "collapsed": false
   },
   "outputs": [],
   "source": [
    "for y in range(2010, 2015):\n",
    "    alldata = pd.merge(alldata, dsets[y], on='candy', how='left')"
   ]
  },
  {
   "cell_type": "code",
   "execution_count": 35,
   "metadata": {
    "collapsed": false
   },
   "outputs": [],
   "source": [
    "alldata.set_index('candy', inplace=True)"
   ]
  },
  {
   "cell_type": "code",
   "execution_count": 36,
   "metadata": {
    "collapsed": false
   },
   "outputs": [
    {
     "data": {
      "text/html": [
       "<div>\n",
       "<table border=\"1\" class=\"dataframe\">\n",
       "  <thead>\n",
       "    <tr style=\"text-align: right;\">\n",
       "      <th></th>\n",
       "      <th>2009</th>\n",
       "      <th>2010</th>\n",
       "      <th>2011</th>\n",
       "      <th>2012</th>\n",
       "      <th>2013</th>\n",
       "      <th>2014</th>\n",
       "    </tr>\n",
       "    <tr>\n",
       "      <th>candy</th>\n",
       "      <th></th>\n",
       "      <th></th>\n",
       "      <th></th>\n",
       "      <th></th>\n",
       "      <th></th>\n",
       "      <th></th>\n",
       "    </tr>\n",
       "  </thead>\n",
       "  <tbody>\n",
       "    <tr>\n",
       "      <th>TOTAL CANDY &amp; GUM</th>\n",
       "      <td>4.890105e+09</td>\n",
       "      <td>5.183228e+09</td>\n",
       "      <td>5.329258e+09</td>\n",
       "      <td>5.423441e+09</td>\n",
       "      <td>5.595882e+09</td>\n",
       "      <td>5.762608e+09</td>\n",
       "    </tr>\n",
       "    <tr>\n",
       "      <th>CHOCOLATE CANDY BAR small</th>\n",
       "      <td>6.110693e+08</td>\n",
       "      <td>NaN</td>\n",
       "      <td>NaN</td>\n",
       "      <td>NaN</td>\n",
       "      <td>NaN</td>\n",
       "      <td>NaN</td>\n",
       "    </tr>\n",
       "    <tr>\n",
       "      <th>CHOCOLATE CANDY BOX/BAG/BAR large</th>\n",
       "      <td>1.191622e+09</td>\n",
       "      <td>NaN</td>\n",
       "      <td>NaN</td>\n",
       "      <td>NaN</td>\n",
       "      <td>NaN</td>\n",
       "      <td>NaN</td>\n",
       "    </tr>\n",
       "    <tr>\n",
       "      <th>CHOCOLATE CANDY SNACK SIZE</th>\n",
       "      <td>3.854166e+08</td>\n",
       "      <td>4.141745e+08</td>\n",
       "      <td>4.391579e+08</td>\n",
       "      <td>4.456020e+08</td>\n",
       "      <td>4.470590e+08</td>\n",
       "      <td>4.242220e+08</td>\n",
       "    </tr>\n",
       "    <tr>\n",
       "      <th>GIFT BOX CHOCOLATES</th>\n",
       "      <td>6.781607e+07</td>\n",
       "      <td>6.994806e+07</td>\n",
       "      <td>6.578834e+07</td>\n",
       "      <td>6.563441e+07</td>\n",
       "      <td>7.758003e+07</td>\n",
       "      <td>7.949501e+07</td>\n",
       "    </tr>\n",
       "    <tr>\n",
       "      <th>NOVELTY CHOCOLATE CANDY</th>\n",
       "      <td>1.161642e+06</td>\n",
       "      <td>6.161966e+05</td>\n",
       "      <td>7.104009e+05</td>\n",
       "      <td>1.887566e+06</td>\n",
       "      <td>1.691430e+06</td>\n",
       "      <td>1.404330e+06</td>\n",
       "    </tr>\n",
       "    <tr>\n",
       "      <th>SEASONAL CHOCOLATE AO SEASONAL CANDY</th>\n",
       "      <td>2.677197e+06</td>\n",
       "      <td>3.414757e+06</td>\n",
       "      <td>3.747523e+06</td>\n",
       "      <td>3.854850e+06</td>\n",
       "      <td>3.600995e+06</td>\n",
       "      <td>3.022545e+06</td>\n",
       "    </tr>\n",
       "    <tr>\n",
       "      <th>SEASONAL CHOCOLATE CHRISTMAS CANDY</th>\n",
       "      <td>1.341640e+08</td>\n",
       "      <td>1.507286e+08</td>\n",
       "      <td>1.529473e+08</td>\n",
       "      <td>1.662897e+08</td>\n",
       "      <td>1.653152e+08</td>\n",
       "      <td>1.712013e+08</td>\n",
       "    </tr>\n",
       "    <tr>\n",
       "      <th>SEASONAL CHOCOLATE EASTER CANDY</th>\n",
       "      <td>1.883273e+08</td>\n",
       "      <td>1.997152e+08</td>\n",
       "      <td>2.289184e+08</td>\n",
       "      <td>2.366676e+08</td>\n",
       "      <td>2.143763e+08</td>\n",
       "      <td>2.430658e+08</td>\n",
       "    </tr>\n",
       "    <tr>\n",
       "      <th>SEASONAL CHOCOLATE HALLOWEEN CANDY</th>\n",
       "      <td>4.545534e+07</td>\n",
       "      <td>4.203398e+07</td>\n",
       "      <td>4.408336e+07</td>\n",
       "      <td>5.299481e+07</td>\n",
       "      <td>6.073570e+07</td>\n",
       "      <td>6.796362e+07</td>\n",
       "    </tr>\n",
       "    <tr>\n",
       "      <th>SEASONAL CHOCOLATE VALENTINE CANDY</th>\n",
       "      <td>1.062479e+08</td>\n",
       "      <td>1.025686e+08</td>\n",
       "      <td>1.040453e+08</td>\n",
       "      <td>1.107547e+08</td>\n",
       "      <td>1.209121e+08</td>\n",
       "      <td>1.348535e+08</td>\n",
       "    </tr>\n",
       "    <tr>\n",
       "      <th>SUGAR FREE CHOCOLATE CANDY</th>\n",
       "      <td>3.544182e+07</td>\n",
       "      <td>3.631511e+07</td>\n",
       "      <td>3.566162e+07</td>\n",
       "      <td>3.617179e+07</td>\n",
       "      <td>3.644964e+07</td>\n",
       "      <td>3.499163e+07</td>\n",
       "    </tr>\n",
       "    <tr>\n",
       "      <th>CATEGORY - TOTAL CHOCOLATE CANDY</th>\n",
       "      <td>2.769399e+09</td>\n",
       "      <td>2.965826e+09</td>\n",
       "      <td>3.103441e+09</td>\n",
       "      <td>3.209990e+09</td>\n",
       "      <td>3.335173e+09</td>\n",
       "      <td>3.477248e+09</td>\n",
       "    </tr>\n",
       "    <tr>\n",
       "      <th>BREATH FRESHENER</th>\n",
       "      <td>1.325770e+08</td>\n",
       "      <td>1.356703e+08</td>\n",
       "      <td>1.402533e+08</td>\n",
       "      <td>1.447718e+08</td>\n",
       "      <td>1.528177e+08</td>\n",
       "      <td>1.655257e+08</td>\n",
       "    </tr>\n",
       "    <tr>\n",
       "      <th>CARAMEL/TAFFY APPLES/KITS/DIPS</th>\n",
       "      <td>6.131471e+07</td>\n",
       "      <td>6.256927e+07</td>\n",
       "      <td>6.006738e+07</td>\n",
       "      <td>5.528619e+07</td>\n",
       "      <td>5.811632e+07</td>\n",
       "      <td>5.838855e+07</td>\n",
       "    </tr>\n",
       "    <tr>\n",
       "      <th>HARD SUGAR CANDY/PKG &amp; ROLL CANDY</th>\n",
       "      <td>1.216485e+08</td>\n",
       "      <td>1.234664e+08</td>\n",
       "      <td>1.255254e+08</td>\n",
       "      <td>1.416202e+08</td>\n",
       "      <td>1.467977e+08</td>\n",
       "      <td>1.409891e+08</td>\n",
       "    </tr>\n",
       "    <tr>\n",
       "      <th>LICORICE BOX/BAG</th>\n",
       "      <td>1.255008e+08</td>\n",
       "      <td>1.312473e+08</td>\n",
       "      <td>1.387750e+08</td>\n",
       "      <td>1.463221e+08</td>\n",
       "      <td>1.498052e+08</td>\n",
       "      <td>1.407177e+08</td>\n",
       "    </tr>\n",
       "    <tr>\n",
       "      <th>NON CHOCOLATE CHEWY CANDY</th>\n",
       "      <td>4.414166e+08</td>\n",
       "      <td>4.833960e+08</td>\n",
       "      <td>4.930214e+08</td>\n",
       "      <td>4.958235e+08</td>\n",
       "      <td>5.376735e+08</td>\n",
       "      <td>5.770108e+08</td>\n",
       "    </tr>\n",
       "    <tr>\n",
       "      <th>NOVELTY NON-CHOCOLATE CANDY</th>\n",
       "      <td>1.405364e+08</td>\n",
       "      <td>1.464616e+08</td>\n",
       "      <td>1.435290e+08</td>\n",
       "      <td>1.519096e+08</td>\n",
       "      <td>1.571494e+08</td>\n",
       "      <td>1.627957e+08</td>\n",
       "    </tr>\n",
       "    <tr>\n",
       "      <th>PLAIN MINTS</th>\n",
       "      <td>7.389779e+07</td>\n",
       "      <td>7.514222e+07</td>\n",
       "      <td>7.692875e+07</td>\n",
       "      <td>7.731317e+07</td>\n",
       "      <td>7.968622e+07</td>\n",
       "      <td>8.273935e+07</td>\n",
       "    </tr>\n",
       "    <tr>\n",
       "      <th>PLU - ALL BRANDS CANDY</th>\n",
       "      <td>1.537336e+04</td>\n",
       "      <td>1.147638e+04</td>\n",
       "      <td>1.712657e+03</td>\n",
       "      <td>2.340926e+03</td>\n",
       "      <td>9.234140e+00</td>\n",
       "      <td>0.000000e+00</td>\n",
       "    </tr>\n",
       "    <tr>\n",
       "      <th>SEASONAL NON-CHOCOLATE AO SEASONL CANDY</th>\n",
       "      <td>1.754027e+06</td>\n",
       "      <td>1.830987e+06</td>\n",
       "      <td>1.656078e+06</td>\n",
       "      <td>1.862609e+06</td>\n",
       "      <td>2.875890e+06</td>\n",
       "      <td>3.806137e+06</td>\n",
       "    </tr>\n",
       "    <tr>\n",
       "      <th>SEASONAL NON-CHOCOLATE CHRISTMAS CANDY</th>\n",
       "      <td>4.028118e+07</td>\n",
       "      <td>4.174685e+07</td>\n",
       "      <td>4.151454e+07</td>\n",
       "      <td>4.238948e+07</td>\n",
       "      <td>4.362824e+07</td>\n",
       "      <td>4.659537e+07</td>\n",
       "    </tr>\n",
       "    <tr>\n",
       "      <th>SEASONAL NON-CHOCOLATE EASTER CANDY</th>\n",
       "      <td>4.286607e+07</td>\n",
       "      <td>4.865641e+07</td>\n",
       "      <td>5.756964e+07</td>\n",
       "      <td>5.391415e+07</td>\n",
       "      <td>5.431364e+07</td>\n",
       "      <td>5.467662e+07</td>\n",
       "    </tr>\n",
       "    <tr>\n",
       "      <th>SEASONAL NON-CHOCOLATE HALLOWEEN CANDY</th>\n",
       "      <td>4.492516e+07</td>\n",
       "      <td>4.090500e+07</td>\n",
       "      <td>4.490300e+07</td>\n",
       "      <td>3.755785e+07</td>\n",
       "      <td>4.616236e+07</td>\n",
       "      <td>4.551927e+07</td>\n",
       "    </tr>\n",
       "    <tr>\n",
       "      <th>SEASONAL NON-CHOCOLATE VALENTINE CANDY</th>\n",
       "      <td>2.483409e+07</td>\n",
       "      <td>2.551483e+07</td>\n",
       "      <td>2.609213e+07</td>\n",
       "      <td>2.679407e+07</td>\n",
       "      <td>2.914511e+07</td>\n",
       "      <td>2.801266e+07</td>\n",
       "    </tr>\n",
       "    <tr>\n",
       "      <th>SPECIALTY NUT/COCONUT CANDY</th>\n",
       "      <td>5.172847e+07</td>\n",
       "      <td>5.674882e+07</td>\n",
       "      <td>6.120840e+07</td>\n",
       "      <td>6.614051e+07</td>\n",
       "      <td>6.942091e+07</td>\n",
       "      <td>6.997290e+07</td>\n",
       "    </tr>\n",
       "    <tr>\n",
       "      <th>SUGAR FREE DIET CANDY</th>\n",
       "      <td>3.094090e+07</td>\n",
       "      <td>3.152027e+07</td>\n",
       "      <td>2.997070e+07</td>\n",
       "      <td>2.957715e+07</td>\n",
       "      <td>2.928760e+07</td>\n",
       "      <td>2.716311e+07</td>\n",
       "    </tr>\n",
       "    <tr>\n",
       "      <th>CATEGORY - TOTAL NON-CHOCOLATE CANDY</th>\n",
       "      <td>1.334237e+09</td>\n",
       "      <td>1.404888e+09</td>\n",
       "      <td>1.441016e+09</td>\n",
       "      <td>1.471285e+09</td>\n",
       "      <td>1.556880e+09</td>\n",
       "      <td>1.603913e+09</td>\n",
       "    </tr>\n",
       "    <tr>\n",
       "      <th>REGULAR GUM (NO SUGARLESS)</th>\n",
       "      <td>1.202605e+08</td>\n",
       "      <td>1.096257e+08</td>\n",
       "      <td>1.054140e+08</td>\n",
       "      <td>9.680839e+07</td>\n",
       "      <td>9.006376e+07</td>\n",
       "      <td>8.595776e+07</td>\n",
       "    </tr>\n",
       "    <tr>\n",
       "      <th>SUGARLESS GUM</th>\n",
       "      <td>6.662083e+08</td>\n",
       "      <td>7.028893e+08</td>\n",
       "      <td>6.793868e+08</td>\n",
       "      <td>6.453578e+08</td>\n",
       "      <td>6.137658e+08</td>\n",
       "      <td>5.954888e+08</td>\n",
       "    </tr>\n",
       "    <tr>\n",
       "      <th>CATEGORY - GUM</th>\n",
       "      <td>7.864688e+08</td>\n",
       "      <td>8.125149e+08</td>\n",
       "      <td>7.848008e+08</td>\n",
       "      <td>7.421661e+08</td>\n",
       "      <td>7.038295e+08</td>\n",
       "      <td>6.814466e+08</td>\n",
       "    </tr>\n",
       "  </tbody>\n",
       "</table>\n",
       "</div>"
      ],
      "text/plain": [
       "                                                 2009          2010  \\\n",
       "candy                                                                 \n",
       "TOTAL CANDY & GUM                        4.890105e+09  5.183228e+09   \n",
       "CHOCOLATE CANDY BAR small                6.110693e+08           NaN   \n",
       "CHOCOLATE CANDY BOX/BAG/BAR large        1.191622e+09           NaN   \n",
       "CHOCOLATE CANDY SNACK SIZE               3.854166e+08  4.141745e+08   \n",
       "GIFT BOX CHOCOLATES                      6.781607e+07  6.994806e+07   \n",
       "NOVELTY CHOCOLATE CANDY                  1.161642e+06  6.161966e+05   \n",
       "SEASONAL CHOCOLATE AO SEASONAL CANDY     2.677197e+06  3.414757e+06   \n",
       "SEASONAL CHOCOLATE CHRISTMAS CANDY       1.341640e+08  1.507286e+08   \n",
       "SEASONAL CHOCOLATE EASTER CANDY          1.883273e+08  1.997152e+08   \n",
       "SEASONAL CHOCOLATE HALLOWEEN CANDY       4.545534e+07  4.203398e+07   \n",
       "SEASONAL CHOCOLATE VALENTINE CANDY       1.062479e+08  1.025686e+08   \n",
       "SUGAR FREE CHOCOLATE CANDY               3.544182e+07  3.631511e+07   \n",
       "CATEGORY - TOTAL CHOCOLATE CANDY         2.769399e+09  2.965826e+09   \n",
       "BREATH FRESHENER                         1.325770e+08  1.356703e+08   \n",
       "CARAMEL/TAFFY APPLES/KITS/DIPS           6.131471e+07  6.256927e+07   \n",
       "HARD SUGAR CANDY/PKG & ROLL CANDY        1.216485e+08  1.234664e+08   \n",
       "LICORICE BOX/BAG                         1.255008e+08  1.312473e+08   \n",
       "NON CHOCOLATE CHEWY CANDY                4.414166e+08  4.833960e+08   \n",
       "NOVELTY NON-CHOCOLATE CANDY              1.405364e+08  1.464616e+08   \n",
       "PLAIN MINTS                              7.389779e+07  7.514222e+07   \n",
       "PLU - ALL BRANDS CANDY                   1.537336e+04  1.147638e+04   \n",
       "SEASONAL NON-CHOCOLATE AO SEASONL CANDY  1.754027e+06  1.830987e+06   \n",
       "SEASONAL NON-CHOCOLATE CHRISTMAS CANDY   4.028118e+07  4.174685e+07   \n",
       "SEASONAL NON-CHOCOLATE EASTER CANDY      4.286607e+07  4.865641e+07   \n",
       "SEASONAL NON-CHOCOLATE HALLOWEEN CANDY   4.492516e+07  4.090500e+07   \n",
       "SEASONAL NON-CHOCOLATE VALENTINE CANDY   2.483409e+07  2.551483e+07   \n",
       "SPECIALTY NUT/COCONUT CANDY              5.172847e+07  5.674882e+07   \n",
       "SUGAR FREE DIET CANDY                    3.094090e+07  3.152027e+07   \n",
       "CATEGORY - TOTAL NON-CHOCOLATE CANDY     1.334237e+09  1.404888e+09   \n",
       "REGULAR GUM (NO SUGARLESS)               1.202605e+08  1.096257e+08   \n",
       "SUGARLESS GUM                            6.662083e+08  7.028893e+08   \n",
       "CATEGORY - GUM                           7.864688e+08  8.125149e+08   \n",
       "\n",
       "                                                 2011          2012  \\\n",
       "candy                                                                 \n",
       "TOTAL CANDY & GUM                        5.329258e+09  5.423441e+09   \n",
       "CHOCOLATE CANDY BAR small                         NaN           NaN   \n",
       "CHOCOLATE CANDY BOX/BAG/BAR large                 NaN           NaN   \n",
       "CHOCOLATE CANDY SNACK SIZE               4.391579e+08  4.456020e+08   \n",
       "GIFT BOX CHOCOLATES                      6.578834e+07  6.563441e+07   \n",
       "NOVELTY CHOCOLATE CANDY                  7.104009e+05  1.887566e+06   \n",
       "SEASONAL CHOCOLATE AO SEASONAL CANDY     3.747523e+06  3.854850e+06   \n",
       "SEASONAL CHOCOLATE CHRISTMAS CANDY       1.529473e+08  1.662897e+08   \n",
       "SEASONAL CHOCOLATE EASTER CANDY          2.289184e+08  2.366676e+08   \n",
       "SEASONAL CHOCOLATE HALLOWEEN CANDY       4.408336e+07  5.299481e+07   \n",
       "SEASONAL CHOCOLATE VALENTINE CANDY       1.040453e+08  1.107547e+08   \n",
       "SUGAR FREE CHOCOLATE CANDY               3.566162e+07  3.617179e+07   \n",
       "CATEGORY - TOTAL CHOCOLATE CANDY         3.103441e+09  3.209990e+09   \n",
       "BREATH FRESHENER                         1.402533e+08  1.447718e+08   \n",
       "CARAMEL/TAFFY APPLES/KITS/DIPS           6.006738e+07  5.528619e+07   \n",
       "HARD SUGAR CANDY/PKG & ROLL CANDY        1.255254e+08  1.416202e+08   \n",
       "LICORICE BOX/BAG                         1.387750e+08  1.463221e+08   \n",
       "NON CHOCOLATE CHEWY CANDY                4.930214e+08  4.958235e+08   \n",
       "NOVELTY NON-CHOCOLATE CANDY              1.435290e+08  1.519096e+08   \n",
       "PLAIN MINTS                              7.692875e+07  7.731317e+07   \n",
       "PLU - ALL BRANDS CANDY                   1.712657e+03  2.340926e+03   \n",
       "SEASONAL NON-CHOCOLATE AO SEASONL CANDY  1.656078e+06  1.862609e+06   \n",
       "SEASONAL NON-CHOCOLATE CHRISTMAS CANDY   4.151454e+07  4.238948e+07   \n",
       "SEASONAL NON-CHOCOLATE EASTER CANDY      5.756964e+07  5.391415e+07   \n",
       "SEASONAL NON-CHOCOLATE HALLOWEEN CANDY   4.490300e+07  3.755785e+07   \n",
       "SEASONAL NON-CHOCOLATE VALENTINE CANDY   2.609213e+07  2.679407e+07   \n",
       "SPECIALTY NUT/COCONUT CANDY              6.120840e+07  6.614051e+07   \n",
       "SUGAR FREE DIET CANDY                    2.997070e+07  2.957715e+07   \n",
       "CATEGORY - TOTAL NON-CHOCOLATE CANDY     1.441016e+09  1.471285e+09   \n",
       "REGULAR GUM (NO SUGARLESS)               1.054140e+08  9.680839e+07   \n",
       "SUGARLESS GUM                            6.793868e+08  6.453578e+08   \n",
       "CATEGORY - GUM                           7.848008e+08  7.421661e+08   \n",
       "\n",
       "                                                 2013          2014  \n",
       "candy                                                                \n",
       "TOTAL CANDY & GUM                        5.595882e+09  5.762608e+09  \n",
       "CHOCOLATE CANDY BAR small                         NaN           NaN  \n",
       "CHOCOLATE CANDY BOX/BAG/BAR large                 NaN           NaN  \n",
       "CHOCOLATE CANDY SNACK SIZE               4.470590e+08  4.242220e+08  \n",
       "GIFT BOX CHOCOLATES                      7.758003e+07  7.949501e+07  \n",
       "NOVELTY CHOCOLATE CANDY                  1.691430e+06  1.404330e+06  \n",
       "SEASONAL CHOCOLATE AO SEASONAL CANDY     3.600995e+06  3.022545e+06  \n",
       "SEASONAL CHOCOLATE CHRISTMAS CANDY       1.653152e+08  1.712013e+08  \n",
       "SEASONAL CHOCOLATE EASTER CANDY          2.143763e+08  2.430658e+08  \n",
       "SEASONAL CHOCOLATE HALLOWEEN CANDY       6.073570e+07  6.796362e+07  \n",
       "SEASONAL CHOCOLATE VALENTINE CANDY       1.209121e+08  1.348535e+08  \n",
       "SUGAR FREE CHOCOLATE CANDY               3.644964e+07  3.499163e+07  \n",
       "CATEGORY - TOTAL CHOCOLATE CANDY         3.335173e+09  3.477248e+09  \n",
       "BREATH FRESHENER                         1.528177e+08  1.655257e+08  \n",
       "CARAMEL/TAFFY APPLES/KITS/DIPS           5.811632e+07  5.838855e+07  \n",
       "HARD SUGAR CANDY/PKG & ROLL CANDY        1.467977e+08  1.409891e+08  \n",
       "LICORICE BOX/BAG                         1.498052e+08  1.407177e+08  \n",
       "NON CHOCOLATE CHEWY CANDY                5.376735e+08  5.770108e+08  \n",
       "NOVELTY NON-CHOCOLATE CANDY              1.571494e+08  1.627957e+08  \n",
       "PLAIN MINTS                              7.968622e+07  8.273935e+07  \n",
       "PLU - ALL BRANDS CANDY                   9.234140e+00  0.000000e+00  \n",
       "SEASONAL NON-CHOCOLATE AO SEASONL CANDY  2.875890e+06  3.806137e+06  \n",
       "SEASONAL NON-CHOCOLATE CHRISTMAS CANDY   4.362824e+07  4.659537e+07  \n",
       "SEASONAL NON-CHOCOLATE EASTER CANDY      5.431364e+07  5.467662e+07  \n",
       "SEASONAL NON-CHOCOLATE HALLOWEEN CANDY   4.616236e+07  4.551927e+07  \n",
       "SEASONAL NON-CHOCOLATE VALENTINE CANDY   2.914511e+07  2.801266e+07  \n",
       "SPECIALTY NUT/COCONUT CANDY              6.942091e+07  6.997290e+07  \n",
       "SUGAR FREE DIET CANDY                    2.928760e+07  2.716311e+07  \n",
       "CATEGORY - TOTAL NON-CHOCOLATE CANDY     1.556880e+09  1.603913e+09  \n",
       "REGULAR GUM (NO SUGARLESS)               9.006376e+07  8.595776e+07  \n",
       "SUGARLESS GUM                            6.137658e+08  5.954888e+08  \n",
       "CATEGORY - GUM                           7.038295e+08  6.814466e+08  "
      ]
     },
     "execution_count": 36,
     "metadata": {},
     "output_type": "execute_result"
    }
   ],
   "source": [
    "alldata"
   ]
  },
  {
   "cell_type": "code",
   "execution_count": 37,
   "metadata": {
    "collapsed": true
   },
   "outputs": [],
   "source": [
    "%matplotlib inline\n",
    "import matplotlib.pyplot as plt"
   ]
  },
  {
   "cell_type": "code",
   "execution_count": 38,
   "metadata": {
    "collapsed": false
   },
   "outputs": [
    {
     "data": {
      "text/plain": [
       "Index(['2009', '2010', '2011', '2012', '2013', '2014'], dtype='object')"
      ]
     },
     "execution_count": 38,
     "metadata": {},
     "output_type": "execute_result"
    }
   ],
   "source": [
    "alldata.keys()"
   ]
  },
  {
   "cell_type": "code",
   "execution_count": 39,
   "metadata": {
    "collapsed": false
   },
   "outputs": [],
   "source": [
    "ad = alldata.transpose()"
   ]
  },
  {
   "cell_type": "code",
   "execution_count": 40,
   "metadata": {
    "collapsed": false
   },
   "outputs": [
    {
     "data": {
      "text/plain": [
       "['SEASONAL CHOCOLATE HALLOWEEN CANDY',\n",
       " 'SEASONAL NON-CHOCOLATE HALLOWEEN CANDY']"
      ]
     },
     "execution_count": 40,
     "metadata": {},
     "output_type": "execute_result"
    }
   ],
   "source": [
    "hallo = []\n",
    "for k in ad.keys():\n",
    "    if 'HALLOWEEN' in k:\n",
    "        hallo.append(k)\n",
    "        \n",
    "hallo"
   ]
  },
  {
   "cell_type": "code",
   "execution_count": 47,
   "metadata": {
    "collapsed": false
   },
   "outputs": [],
   "source": [
    "ad_halloween = ad[hallo].copy()"
   ]
  },
  {
   "cell_type": "code",
   "execution_count": 48,
   "metadata": {
    "collapsed": false
   },
   "outputs": [
    {
     "data": {
      "text/html": [
       "<div>\n",
       "<table border=\"1\" class=\"dataframe\">\n",
       "  <thead>\n",
       "    <tr style=\"text-align: right;\">\n",
       "      <th>candy</th>\n",
       "      <th>SEASONAL CHOCOLATE HALLOWEEN CANDY</th>\n",
       "      <th>SEASONAL NON-CHOCOLATE HALLOWEEN CANDY</th>\n",
       "    </tr>\n",
       "  </thead>\n",
       "  <tbody>\n",
       "    <tr>\n",
       "      <th>2009</th>\n",
       "      <td>45455340.0</td>\n",
       "      <td>44925160.0</td>\n",
       "    </tr>\n",
       "    <tr>\n",
       "      <th>2010</th>\n",
       "      <td>42033980.0</td>\n",
       "      <td>40905000.0</td>\n",
       "    </tr>\n",
       "    <tr>\n",
       "      <th>2011</th>\n",
       "      <td>44083360.0</td>\n",
       "      <td>44903000.0</td>\n",
       "    </tr>\n",
       "    <tr>\n",
       "      <th>2012</th>\n",
       "      <td>52994810.0</td>\n",
       "      <td>37557850.0</td>\n",
       "    </tr>\n",
       "    <tr>\n",
       "      <th>2013</th>\n",
       "      <td>60735700.0</td>\n",
       "      <td>46162360.0</td>\n",
       "    </tr>\n",
       "    <tr>\n",
       "      <th>2014</th>\n",
       "      <td>67963616.0</td>\n",
       "      <td>45519268.0</td>\n",
       "    </tr>\n",
       "  </tbody>\n",
       "</table>\n",
       "</div>"
      ],
      "text/plain": [
       "candy  SEASONAL CHOCOLATE HALLOWEEN CANDY  \\\n",
       "2009                           45455340.0   \n",
       "2010                           42033980.0   \n",
       "2011                           44083360.0   \n",
       "2012                           52994810.0   \n",
       "2013                           60735700.0   \n",
       "2014                           67963616.0   \n",
       "\n",
       "candy  SEASONAL NON-CHOCOLATE HALLOWEEN CANDY  \n",
       "2009                               44925160.0  \n",
       "2010                               40905000.0  \n",
       "2011                               44903000.0  \n",
       "2012                               37557850.0  \n",
       "2013                               46162360.0  \n",
       "2014                               45519268.0  "
      ]
     },
     "execution_count": 48,
     "metadata": {},
     "output_type": "execute_result"
    }
   ],
   "source": [
    "ad_halloween"
   ]
  },
  {
   "cell_type": "code",
   "execution_count": 49,
   "metadata": {
    "collapsed": false
   },
   "outputs": [],
   "source": [
    "ad_halloween['Total'] = ad_halloween['SEASONAL CHOCOLATE HALLOWEEN CANDY'] + ad_halloween['SEASONAL NON-CHOCOLATE HALLOWEEN CANDY']"
   ]
  },
  {
   "cell_type": "code",
   "execution_count": 50,
   "metadata": {
    "collapsed": false
   },
   "outputs": [
    {
     "data": {
      "text/plain": [
       "[<matplotlib.lines.Line2D at 0x7f76b8347160>,\n",
       " <matplotlib.lines.Line2D at 0x7f76b83472b0>,\n",
       " <matplotlib.lines.Line2D at 0x7f76b8347518>]"
      ]
     },
     "execution_count": 50,
     "metadata": {},
     "output_type": "execute_result"
    },
    {
     "data": {
      "image/png": "[encoded data removed]",
      "text/plain": [
       "<matplotlib.figure.Figure at 0x7f76b83a96d8>"
      ]
     },
     "metadata": {},
     "output_type": "display_data"
    }
   ],
   "source": [
    "plt.plot(ad_halloween)"
   ]
  },
  {
   "cell_type": "code",
   "execution_count": null,
   "metadata": {
    "collapsed": true
   },
   "outputs": [],
   "source": []
  }
 ],
 "metadata": {
  "kernelspec": {
   "display_name": "Python [Root]",
   "language": "python",
   "name": "Python [Root]"
  },
  "language_info": {
   "codemirror_mode": {
    "name": "ipython",
    "version": 3
   },
   "file_extension": ".py",
   "mimetype": "text/x-python",
   "name": "python",
   "nbconvert_exporter": "python",
   "pygments_lexer": "ipython3",
   "version": "3.5.2"
  }
 },
 "nbformat": 4,
 "nbformat_minor": 0
}
